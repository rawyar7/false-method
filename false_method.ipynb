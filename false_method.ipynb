{
  "nbformat": 4,
  "nbformat_minor": 0,
  "metadata": {
    "colab": {
      "provenance": []
    },
    "kernelspec": {
      "name": "python3",
      "display_name": "Python 3"
    },
    "language_info": {
      "name": "python"
    }
  },
  "cells": [
    {
      "cell_type": "code",
      "execution_count": 11,
      "metadata": {
        "colab": {
          "base_uri": "https://localhost:8080/"
        },
        "id": "jw7zlOOtQtNs",
        "outputId": "85b0f4a7-ed89-46a4-e80c-95f17d3237df"
      },
      "outputs": [
        {
          "output_type": "stream",
          "name": "stdout",
          "text": [
            "First Guess: -2\n",
            "Second Guess: 0\n",
            "Tolerable Error: 0.0000001\n",
            "\n",
            "\n",
            "*** FALSE POSITION METHOD IMPLEMENTATION ***\n",
            "Iteration-1, p = -0.142857 and f(p) = -0.265306\n",
            "Iteration-2, p = -0.180000 and f(p) = -0.067600\n",
            "Iteration-3, p = -0.189415 and f(p) = -0.017047\n",
            "Iteration-4, p = -0.191786 and f(p) = -0.004287\n",
            "Iteration-5, p = -0.192382 and f(p) = -0.001078\n",
            "Iteration-6, p = -0.192532 and f(p) = -0.000271\n",
            "Iteration-7, p = -0.192570 and f(p) = -0.000068\n",
            "Iteration-8, p = -0.192579 and f(p) = -0.000017\n",
            "Iteration-9, p = -0.192582 and f(p) = -0.000004\n",
            "Iteration-10, p = -0.192582 and f(p) = -0.000001\n",
            "Iteration-11, p = -0.192582 and f(p) = -0.000000\n",
            "Iteration-12, p = -0.192582 and f(p) = -0.000000\n",
            "\n",
            "Required root is: -0.19258239\n"
          ]
        }
      ],
      "source": [
        "# Defining Function\n",
        "def f(x):\n",
        "    return x**2-5*x-1\n",
        "\n",
        "# Implementing False Position Method\n",
        "def falsePosition(a,b,e):\n",
        "    step = 1\n",
        "    print('\\n\\n*** FALSE POSITION METHOD IMPLEMENTATION ***')\n",
        "    condition = True\n",
        "    while condition:\n",
        "        p = (a*f(b)-b*f(a))/(f(b) - f(a))\n",
        "        print('Iteration-%d, p = %0.6f and f(p) = %0.6f' % (step, p, f(p)))\n",
        "\n",
        "        if f(a) * f(p) < 0:\n",
        "            b = p\n",
        "        else:\n",
        "            a = p\n",
        "\n",
        "        step = step + 1\n",
        "        condition = abs(f(p)) > e\n",
        "\n",
        "    print('\\nRequired root is: %0.8f' % p)\n",
        "\n",
        "\n",
        "# Input Section\n",
        "a = input('First Guess: ')\n",
        "b = input('Second Guess: ')\n",
        "e = input('Tolerable Error: ')\n",
        "\n",
        "# Converting input to float\n",
        "a = float(a)\n",
        "b = float(b)\n",
        "e = float(e)\n",
        "\n",
        "#Note: You can combine above two section like this\n",
        "# a = float(input('First Guess: '))\n",
        "# b = float(input('Second Guess: '))\n",
        "# e = float(input('Tolerable Error: '))\n",
        "\n",
        "\n",
        "# Checking Correctness of initial guess values and false positioning\n",
        "if f(a) * f(b) > 0.0:\n",
        "    print('Given guess values do not bracket the root.')\n",
        "    print('Try Again with different guess values.')\n",
        "else:\n",
        "    falsePosition(a,b,e)"
      ]
    }
  ]
}